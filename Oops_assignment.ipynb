{
  "nbformat": 4,
  "nbformat_minor": 0,
  "metadata": {
    "colab": {
      "provenance": [],
      "authorship_tag": "ABX9TyOb97/ptAn6Gfan8mX+Lk6A",
      "include_colab_link": true
    },
    "kernelspec": {
      "name": "python3",
      "display_name": "Python 3"
    },
    "language_info": {
      "name": "python"
    }
  },
  "cells": [
    {
      "cell_type": "markdown",
      "metadata": {
        "id": "view-in-github",
        "colab_type": "text"
      },
      "source": [
        "<a href=\"https://colab.research.google.com/github/krackofficer/OOPS-ASSIGNMENT/blob/main/Oops_assignment.ipynb\" target=\"_parent\"><img src=\"https://colab.research.google.com/assets/colab-badge.svg\" alt=\"Open In Colab\"/></a>"
      ]
    },
    {
      "cell_type": "code",
      "execution_count": 8,
      "metadata": {
        "id": "y-G4Ga8wD2b1"
      },
      "outputs": [],
      "source": [
        " # OOPS ASSIGNMENT"
      ]
    },
    {
      "cell_type": "code",
      "source": [
        "## 1. What are the five key concepts of Object-Oriented Programming (OOP)?"
      ],
      "metadata": {
        "id": "oKDZ6sIYEsnn"
      },
      "execution_count": 9,
      "outputs": []
    },
    {
      "cell_type": "code",
      "source": [
        "## Encapsulation: Binding data and methods into one unit.\n",
        "\n",
        "## Abstraction: Hiding internal details and showing only functionality.\n",
        "\n",
        "## Inheritance: Acquiring properties from another class.\n",
        "\n",
        "##Polymorphism: Same method behaves differently on different classes.\n",
        "\n",
        "## Composition: Objects can contain other objects as attributes."
      ],
      "metadata": {
        "id": "fADkbJ1qFiwg"
      },
      "execution_count": 11,
      "outputs": []
    },
    {
      "cell_type": "code",
      "source": [
        "## 2. Write a Python class for a Car with attributes for make, model, and year. Include a method to display the car's information."
      ],
      "metadata": {
        "id": "EZ8TtpckFzjW"
      },
      "execution_count": 12,
      "outputs": []
    },
    {
      "cell_type": "code",
      "source": [
        "class Car:\n",
        "    def __init__(self, make, model, year):\n",
        "        self.make = make\n",
        "        self.model = model\n",
        "        self.year = year\n",
        "\n",
        "    def display_info(self):\n",
        "        print(f\"Car: {self.year} {self.make} {self.model}\")\n",
        "\n",
        "# Example\n",
        "my_car = Car(\"Toyota\", \"Corolla\", 2022)\n",
        "my_car.display_info()"
      ],
      "metadata": {
        "colab": {
          "base_uri": "https://localhost:8080/"
        },
        "id": "saJKzObyF8TQ",
        "outputId": "43fa309f-93ea-4b31-8f08-3cd2f55d4b38"
      },
      "execution_count": 13,
      "outputs": [
        {
          "output_type": "stream",
          "name": "stdout",
          "text": [
            "Car: 2022 Toyota Corolla\n"
          ]
        }
      ]
    },
    {
      "cell_type": "code",
      "source": [
        "## 3. Explain the difference between instance methods and class methods. Provide an example of each."
      ],
      "metadata": {
        "id": "RjOq3zC_Gign"
      },
      "execution_count": 14,
      "outputs": []
    },
    {
      "cell_type": "code",
      "source": [
        "class Example:\n",
        "    instance_count = 0\n",
        "\n",
        "    def __init__(self):\n",
        "        Example.instance_count += 1\n",
        "\n",
        "    def instance_method(self):\n",
        "        print(\"This is an instance method.\")\n",
        "\n",
        "    @classmethod\n",
        "    def class_method(cls):\n",
        "        print(f\"This is a class method. Total instances created: {cls.instance_count}\")\n",
        "\n",
        "# Usage\n",
        "ex = Example()\n",
        "ex.instance_method()\n",
        "Example.class_method()"
      ],
      "metadata": {
        "colab": {
          "base_uri": "https://localhost:8080/"
        },
        "id": "nzHEbOK0GmES",
        "outputId": "bfa0b26e-a744-4366-ada3-06d145b0f9c7"
      },
      "execution_count": 15,
      "outputs": [
        {
          "output_type": "stream",
          "name": "stdout",
          "text": [
            "This is an instance method.\n",
            "This is a class method. Total instances created: 1\n"
          ]
        }
      ]
    },
    {
      "cell_type": "code",
      "source": [
        "## 4. How does Python implement method overloading? Give an example."
      ],
      "metadata": {
        "id": "IWFXJMbRGmXF"
      },
      "execution_count": 16,
      "outputs": []
    },
    {
      "cell_type": "code",
      "source": [
        "class Calculator:\n",
        "    def add(self, a, b=0, c=0):\n",
        "        return a + b + c\n",
        "\n",
        "# Usage\n",
        "calc = Calculator()\n",
        "print(calc.add(5))         # 5\n",
        "print(calc.add(5, 10))      # 15\n",
        "print(calc.add(5, 10, 15))  # 30"
      ],
      "metadata": {
        "colab": {
          "base_uri": "https://localhost:8080/"
        },
        "id": "zCnw_6RBGmrg",
        "outputId": "a2f758b1-cadd-4011-8435-9e6b6888e752"
      },
      "execution_count": 19,
      "outputs": [
        {
          "output_type": "stream",
          "name": "stdout",
          "text": [
            "5\n",
            "15\n",
            "30\n"
          ]
        }
      ]
    },
    {
      "cell_type": "code",
      "source": [
        "## 5. What are the three types of access modifiers in Python? How are they denoted?"
      ],
      "metadata": {
        "id": "SNsUTjS8HBHQ"
      },
      "execution_count": 18,
      "outputs": []
    },
    {
      "cell_type": "code",
      "source": [
        "class Employee:\n",
        "    def __init__(self):\n",
        "        self.name = \"John\"      # Public\n",
        "        self._salary = 50000    # Protected\n",
        "        self.__ssn = \"123-45-6789\"  # Private\n",
        "\n",
        "emp = Employee()\n",
        "print(emp.name)          # Public access\n",
        "print(emp._salary)       # Protected access (should be accessed carefully)\n",
        "# print(emp.__ssn)       # Error! Private attribute\n",
        "print(emp._Employee__ssn) # Correct way to access private"
      ],
      "metadata": {
        "colab": {
          "base_uri": "https://localhost:8080/"
        },
        "id": "6iVFZqviGm7f",
        "outputId": "471aae8a-5d20-4a38-c794-6ce7359a3b9c"
      },
      "execution_count": 20,
      "outputs": [
        {
          "output_type": "stream",
          "name": "stdout",
          "text": [
            "John\n",
            "50000\n",
            "123-45-6789\n"
          ]
        }
      ]
    },
    {
      "cell_type": "code",
      "source": [
        "## 6. Describe the five types of inheritance in Python. Provide a simple example of multiple inheritance."
      ],
      "metadata": {
        "id": "qpYg7bLLHq8I"
      },
      "execution_count": 22,
      "outputs": []
    },
    {
      "cell_type": "code",
      "source": [
        "## Single Inheritance — Child class inherits from one parent.\n",
        "\n",
        "## Multiple Inheritance — Child class inherits from multiple parents.\n",
        "\n",
        "## Multilevel Inheritance — Child inherits from a Parent, and another Child inherits from that Child.\n",
        "\n",
        "## Hierarchical Inheritance — Multiple children inherit from the same parent.\n",
        "\n",
        "## Hybrid Inheritance — Combination of more than one type of inheritance."
      ],
      "metadata": {
        "id": "XdYwCHoPHrTs"
      },
      "execution_count": 23,
      "outputs": []
    },
    {
      "cell_type": "code",
      "source": [
        "## Example\n",
        "class Father:\n",
        "    def gardening(self):\n",
        "        print(\"I enjoy gardening.\")\n",
        "\n",
        "class Mother:\n",
        "    def cooking(self):\n",
        "        print(\"I enjoy cooking.\")\n",
        "\n",
        "class Child(Father, Mother):\n",
        "    def sports(self):\n",
        "        print(\"I love playing sports.\")\n",
        "\n",
        "# Create an object\n",
        "child = Child()\n",
        "child.gardening()\n",
        "child.cooking()\n",
        "child.sports()"
      ],
      "metadata": {
        "colab": {
          "base_uri": "https://localhost:8080/"
        },
        "id": "MEiixU6rIR7S",
        "outputId": "5deb4809-c32a-4e7a-cbc9-76dec4c7c6e2"
      },
      "execution_count": 24,
      "outputs": [
        {
          "output_type": "stream",
          "name": "stdout",
          "text": [
            "I enjoy gardening.\n",
            "I enjoy cooking.\n",
            "I love playing sports.\n"
          ]
        }
      ]
    },
    {
      "cell_type": "code",
      "source": [
        "## 7. What is the Method Resolution Order (MRO) in Python? How can you retrieve it programmatically?"
      ],
      "metadata": {
        "id": "p0xPYHziI1YX"
      },
      "execution_count": 25,
      "outputs": []
    },
    {
      "cell_type": "code",
      "source": [
        "## MRO (Method Resolution Order) is the order in which Python looks for a method or attribute when you call it.\n",
        "\n",
        "## Especially important in Multiple Inheritance.\n",
        "\n",
        "## Python uses C3 Linearization for MRO.\n",
        "\n",
        "\n",
        "## You can retrieve MRO using:"
      ],
      "metadata": {
        "id": "Ul3pVkMLI2HJ"
      },
      "execution_count": 26,
      "outputs": []
    },
    {
      "cell_type": "code",
      "source": [
        "## ClassName.mro()\n",
        "\n",
        "## or ClassName.__mro__"
      ],
      "metadata": {
        "id": "EEBFmQDCI5wD"
      },
      "execution_count": 27,
      "outputs": []
    },
    {
      "cell_type": "code",
      "source": [
        "class A: pass\n",
        "class B(A): pass\n",
        "class C(A): pass\n",
        "class D(B, C): pass\n",
        "\n",
        "print(D.mro())  # Shows the method resolution order"
      ],
      "metadata": {
        "colab": {
          "base_uri": "https://localhost:8080/"
        },
        "id": "3pydsZF0JUsm",
        "outputId": "b46d1d4d-4c28-4890-cc52-08e6cfe34206"
      },
      "execution_count": 28,
      "outputs": [
        {
          "output_type": "stream",
          "name": "stdout",
          "text": [
            "[<class '__main__.D'>, <class '__main__.B'>, <class '__main__.C'>, <class '__main__.A'>, <class 'object'>]\n"
          ]
        }
      ]
    },
    {
      "cell_type": "code",
      "source": [
        "## 8. Create an abstract base class Shape with an abstract method area(). Then create two subclasses Circle and Rectangle that implement the area() method."
      ],
      "metadata": {
        "id": "NnpWA8OQJVX1"
      },
      "execution_count": 29,
      "outputs": []
    },
    {
      "cell_type": "code",
      "source": [
        "from abc import ABC, abstractmethod\n",
        "import math\n",
        "\n",
        "class Shape(ABC):\n",
        "    @abstractmethod\n",
        "    def area(self):\n",
        "        pass\n",
        "\n",
        "class Circle(Shape):\n",
        "    def __init__(self, radius):\n",
        "        self.radius = radius\n",
        "\n",
        "    def area(self):\n",
        "        return math.pi * self.radius * self.radius\n",
        "\n",
        "class Rectangle(Shape):\n",
        "    def __init__(self, width, height):\n",
        "        self.width = width\n",
        "        self.height = height\n",
        "\n",
        "    def area(self):\n",
        "        return self.width * self.height\n",
        "\n",
        "# Usage\n",
        "circle = Circle(5)\n",
        "rectangle = Rectangle(4, 6)\n",
        "print(\"Circle area:\", circle.area())\n",
        "print(\"Rectangle area:\", rectangle.area())"
      ],
      "metadata": {
        "colab": {
          "base_uri": "https://localhost:8080/"
        },
        "id": "aWi1iDOiJp0D",
        "outputId": "6e8e97c9-2905-4b1c-c54c-3f1ff427476f"
      },
      "execution_count": 30,
      "outputs": [
        {
          "output_type": "stream",
          "name": "stdout",
          "text": [
            "Circle area: 78.53981633974483\n",
            "Rectangle area: 24\n"
          ]
        }
      ]
    },
    {
      "cell_type": "code",
      "source": [
        "## 9. Demonstrate polymorphism by creating a function that can work with different shape objects to calculate and print their areas."
      ],
      "metadata": {
        "id": "tG6nIazJJ0_H"
      },
      "execution_count": 31,
      "outputs": []
    },
    {
      "cell_type": "code",
      "source": [
        "# Base abstract class\n",
        "from abc import ABC, abstractmethod\n",
        "import math\n",
        "\n",
        "class Shape(ABC):\n",
        "    @abstractmethod\n",
        "    def area(self):\n",
        "        pass\n",
        "\n",
        "# Circle subclass\n",
        "class Circle(Shape):\n",
        "    def __init__(self, radius):\n",
        "        self.radius = radius\n",
        "\n",
        "    def area(self):\n",
        "        return math.pi * self.radius * self.radius\n",
        "\n",
        "# Rectangle subclass\n",
        "class Rectangle(Shape):\n",
        "    def __init__(self, width, height):\n",
        "        self.width = width\n",
        "        self.height = height\n",
        "\n",
        "    def area(self):\n",
        "        return self.width * self.height\n",
        "\n",
        "# Polymorphic function\n",
        "def print_area(shape):\n",
        "    print(f\"The area is: {shape.area()}\")\n",
        "\n",
        "# Example usage\n",
        "circle = Circle(5)\n",
        "rectangle = Rectangle(4, 6)\n",
        "\n",
        "print_area(circle)\n",
        "print_area(rectangle)"
      ],
      "metadata": {
        "colab": {
          "base_uri": "https://localhost:8080/"
        },
        "id": "3UrI2UT5KHT2",
        "outputId": "ab6a7b28-bbef-4860-e704-b48ad21ab1fa"
      },
      "execution_count": 32,
      "outputs": [
        {
          "output_type": "stream",
          "name": "stdout",
          "text": [
            "The area is: 78.53981633974483\n",
            "The area is: 24\n"
          ]
        }
      ]
    },
    {
      "cell_type": "code",
      "source": [
        "## 10. Implement encapsulation in a BankAccount class with private attributes for balance and account_number. Include methods for deposit, withdrawal, and balance inquiry."
      ],
      "metadata": {
        "id": "YD-INJYdKSux"
      },
      "execution_count": 33,
      "outputs": []
    },
    {
      "cell_type": "code",
      "source": [
        "class BankAccount:\n",
        "    def __init__(self, account_number, balance=0):\n",
        "        self.__account_number = account_number  # Private\n",
        "        self.__balance = balance  # Private\n",
        "\n",
        "    def deposit(self, amount):\n",
        "        if amount > 0:\n",
        "            self.__balance += amount\n",
        "            print(f\"Deposited {amount}\")\n",
        "        else:\n",
        "            print(\"Invalid deposit amount.\")\n",
        "\n",
        "    def withdraw(self, amount):\n",
        "        if 0 < amount <= self.__balance:\n",
        "            self.__balance -= amount\n",
        "            print(f\"Withdrew {amount}\")\n",
        "        else:\n",
        "            print(\"Insufficient balance or invalid amount.\")\n",
        "\n",
        "    def get_balance(self):\n",
        "        return self.__balance\n",
        "\n",
        "# Example usage\n",
        "account = BankAccount(\"12345\")\n",
        "account.deposit(500)\n",
        "account.withdraw(200)\n",
        "print(f\"Current Balance: {account.get_balance()}\")"
      ],
      "metadata": {
        "colab": {
          "base_uri": "https://localhost:8080/"
        },
        "id": "WUbbvAJtKdD9",
        "outputId": "4ce98a5c-7dcf-4cf3-9308-ef99158ab93b"
      },
      "execution_count": 34,
      "outputs": [
        {
          "output_type": "stream",
          "name": "stdout",
          "text": [
            "Deposited 500\n",
            "Withdrew 200\n",
            "Current Balance: 300\n"
          ]
        }
      ]
    },
    {
      "cell_type": "code",
      "source": [
        "## 11. Write a class that overrides the __str__ and __add__ magic methods."
      ],
      "metadata": {
        "id": "zY0c6c4_Kljs"
      },
      "execution_count": 36,
      "outputs": []
    },
    {
      "cell_type": "code",
      "source": [
        "class Number:\n",
        "    def __init__(self, value):\n",
        "        self.value = value\n",
        "\n",
        "    def __str__(self):\n",
        "        return f\"Number: {self.value}\"\n",
        "\n",
        "    def __add__(self, other):\n",
        "        if isinstance(other, Number):\n",
        "            return Number(self.value + other.value)\n",
        "        return NotImplemented\n",
        "\n",
        "# Example usage\n",
        "num1 = Number(10)\n",
        "num2 = Number(20)\n",
        "result = num1 + num2\n",
        "print(result)  # Calls __str__"
      ],
      "metadata": {
        "colab": {
          "base_uri": "https://localhost:8080/"
        },
        "id": "kRZnUAZ1KvT5",
        "outputId": "430a4057-00c1-4e1f-c3f0-c43461707b4d"
      },
      "execution_count": 37,
      "outputs": [
        {
          "output_type": "stream",
          "name": "stdout",
          "text": [
            "Number: 30\n"
          ]
        }
      ]
    },
    {
      "cell_type": "code",
      "source": [
        "## 12. Create a decorator that measures and prints the execution time of a function."
      ],
      "metadata": {
        "id": "ZGGQWn60K23c"
      },
      "execution_count": 38,
      "outputs": []
    },
    {
      "cell_type": "code",
      "source": [
        "import time\n",
        "\n",
        "def timing_decorator(func):\n",
        "    def wrapper(*args, **kwargs):\n",
        "        start_time = time.time()\n",
        "        result = func(*args, **kwargs)\n",
        "        end_time = time.time()\n",
        "        print(f\"Execution time: {end_time - start_time:.5f} seconds\")\n",
        "        return result\n",
        "    return wrapper\n",
        "\n",
        "# Example function\n",
        "@timing_decorator\n",
        "def slow_function():\n",
        "    time.sleep(2)\n",
        "    print(\"Finished sleeping.\")\n",
        "\n",
        "slow_function()"
      ],
      "metadata": {
        "colab": {
          "base_uri": "https://localhost:8080/"
        },
        "id": "GGmtC21jK-5O",
        "outputId": "c7df291a-2600-4e95-e13e-c7c1c346ad4f"
      },
      "execution_count": 39,
      "outputs": [
        {
          "output_type": "stream",
          "name": "stdout",
          "text": [
            "Finished sleeping.\n",
            "Execution time: 2.00036 seconds\n"
          ]
        }
      ]
    },
    {
      "cell_type": "code",
      "source": [
        "## 13. Explain the concept of the Diamond Problem in multiple inheritance. How does Python resolve it?"
      ],
      "metadata": {
        "id": "Ayx0OzzwLJI_"
      },
      "execution_count": 40,
      "outputs": []
    },
    {
      "cell_type": "code",
      "source": [
        "## The Diamond Problem happens in multiple inheritance when two classes inherit from a common base class, and a child class inherits from both.\n",
        "\n",
        "## This causes confusion: which parent’s method should be called?\n",
        "\n",
        "## Python resolves it using Method Resolution Order (MRO) and C3 linearization, which defines a consistent order to look for methods."
      ],
      "metadata": {
        "id": "Rg5hrQoULSkR"
      },
      "execution_count": 41,
      "outputs": []
    },
    {
      "cell_type": "code",
      "source": [
        "class A:\n",
        "    def show(self):\n",
        "        print(\"A's show\")\n",
        "\n",
        "class B(A):\n",
        "    pass\n",
        "\n",
        "class C(A):\n",
        "    def show(self):\n",
        "        print(\"C's show\")\n",
        "\n",
        "class D(B, C):\n",
        "    pass\n",
        "\n",
        "d = D()\n",
        "d.show()  # Output: \"C's show\" because of MRO\n",
        "print(D.mro())  # Shows Method Resolution Order"
      ],
      "metadata": {
        "colab": {
          "base_uri": "https://localhost:8080/"
        },
        "id": "WKCEGwR3LfkK",
        "outputId": "454f8b63-45f2-4311-cb56-cdf2514b6f41"
      },
      "execution_count": 42,
      "outputs": [
        {
          "output_type": "stream",
          "name": "stdout",
          "text": [
            "C's show\n",
            "[<class '__main__.D'>, <class '__main__.B'>, <class '__main__.C'>, <class '__main__.A'>, <class 'object'>]\n"
          ]
        }
      ]
    },
    {
      "cell_type": "code",
      "source": [
        "## 14. Write a class method that keeps track of the number of instances created from a class."
      ],
      "metadata": {
        "id": "mlAFaY0kLpi_"
      },
      "execution_count": 43,
      "outputs": []
    },
    {
      "cell_type": "code",
      "source": [
        "class InstanceCounter:\n",
        "    count = 0  # Class variable\n",
        "\n",
        "    def __init__(self):\n",
        "        InstanceCounter.count += 1\n",
        "\n",
        "    @classmethod\n",
        "    def get_count(cls):\n",
        "        return cls.count\n",
        "\n",
        "# Example usage\n",
        "a = InstanceCounter()\n",
        "b = InstanceCounter()\n",
        "print(f\"Total instances created: {InstanceCounter.get_count()}\")"
      ],
      "metadata": {
        "colab": {
          "base_uri": "https://localhost:8080/"
        },
        "id": "b_h8_8G5LxkW",
        "outputId": "6b350a7a-e087-426a-dd4c-27f5f7f14ba9"
      },
      "execution_count": 44,
      "outputs": [
        {
          "output_type": "stream",
          "name": "stdout",
          "text": [
            "Total instances created: 2\n"
          ]
        }
      ]
    },
    {
      "cell_type": "code",
      "source": [
        "## 15. Implement a static method in a class that checks if a given year is a leap year."
      ],
      "metadata": {
        "id": "mRMfV9WBL4qy"
      },
      "execution_count": 46,
      "outputs": []
    },
    {
      "cell_type": "code",
      "source": [
        "class YearCheck:\n",
        "    @staticmethod\n",
        "    def is_leap_year(year):\n",
        "        return (year % 4 == 0 and year % 100 != 0) or (year % 400 == 0)\n",
        "\n",
        "# Example usage\n",
        "print(YearCheck.is_leap_year(2024))  # True\n",
        "print(YearCheck.is_leap_year(2023))  # False"
      ],
      "metadata": {
        "colab": {
          "base_uri": "https://localhost:8080/"
        },
        "id": "QOfjo-fCMAxy",
        "outputId": "2b6c03da-ceed-4c3f-ad9e-d02365e692ed"
      },
      "execution_count": 47,
      "outputs": [
        {
          "output_type": "stream",
          "name": "stdout",
          "text": [
            "True\n",
            "False\n"
          ]
        }
      ]
    },
    {
      "cell_type": "code",
      "source": [
        "## Thanks for this assignment"
      ],
      "metadata": {
        "id": "BTLfdye2MNVs"
      },
      "execution_count": 48,
      "outputs": []
    }
  ]
}